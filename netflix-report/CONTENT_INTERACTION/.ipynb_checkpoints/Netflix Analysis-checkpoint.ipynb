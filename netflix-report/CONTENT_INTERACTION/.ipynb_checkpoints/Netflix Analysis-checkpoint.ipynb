{
 "cells": [
  {
   "cell_type": "code",
   "execution_count": 104,
   "id": "d7f523da",
   "metadata": {},
   "outputs": [],
   "source": [
    "import pandas as pd\n",
    "df = pd.read_csv('ViewingActivity.csv')\n",
    "%matplotlib inline\n",
    "import matplotlib"
   ]
  },
  {
   "cell_type": "code",
   "execution_count": 107,
   "id": "a802cee5",
   "metadata": {},
   "outputs": [],
   "source": [
    "#Convert start time to time date format\n",
    "df[\"Start Time\"] = pd.to_datetime(df[\"Start Time\"], utc=True)\n",
    "\n",
    "#Convert start time to GMT\n",
    "df = df.set_index(\"Start Time\")\n",
    "df.index = df.index.tz_convert(\"Europe/London\")\n",
    "df = df.reset_index()\n",
    "\n",
    "#Convert Duration to time delta format\n",
    "df[\"Duration\"] = pd.to_timedelta(df[\"Duration\"])\n",
    "\n",
    "#Split Title column into Show and Title using \":\"\n",
    "df[[\"Show\", \"Title\"]] = df[\"Title\"].str.split(\":\",1, expand=True)\n",
    "\n",
    "#Split Start Time to Year and Start Time\n",
    "df[\"Year\"] = pd.DatetimeIndex(df['Start Time']).year\n",
    "\n",
    "#Move Show column before Title\n",
    "cols = list(df.columns.values)\n",
    "df= df[['Year','Start Time', 'Profile Name', 'Duration', 'Attributes', 'Show','Title', \n",
    "        'Supplemental Video Type', 'Device Type', 'Bookmark', 'Latest Bookmark', 'Country']]"
   ]
  },
  {
   "cell_type": "code",
   "execution_count": 68,
   "id": "6739548c",
   "metadata": {},
   "outputs": [],
   "source": [
    "#Remove less than 5mins long\n",
    "df = df[df[\"Duration\"] > '0 days 00:05:00']"
   ]
  },
  {
   "cell_type": "code",
   "execution_count": 117,
   "id": "99f6f39b",
   "metadata": {
    "scrolled": true
   },
   "outputs": [
    {
     "data": {
      "text/plain": [
       "<AxesSubplot:>"
      ]
     },
     "execution_count": 117,
     "metadata": {},
     "output_type": "execute_result"
    },
    {
     "data": {
      "image/png": "[encoded data removed]",
      "text/plain": [
       "<Figure size 432x288 with 1 Axes>"
      ]
     },
     "metadata": {
      "needs_background": "light"
     },
     "output_type": "display_data"
    }
   ],
   "source": [
    "#df = df.sort_values('Year')\n",
    "df[\"Duration\"].value_counts().plot(kind=\"bar\", x=\"Year\", y=\"Duration\")"
   ]
  },
  {
   "cell_type": "code",
   "execution_count": null,
   "id": "25a6b7af",
   "metadata": {},
   "outputs": [],
   "source": []
  }
 ],
 "metadata": {
  "kernelspec": {
   "display_name": "Python 3 (ipykernel)",
   "language": "python",
   "name": "python3"
  },
  "language_info": {
   "codemirror_mode": {
    "name": "ipython",
    "version": 3
   },
   "file_extension": ".py",
   "mimetype": "text/x-python",
   "name": "python",
   "nbconvert_exporter": "python",
   "pygments_lexer": "ipython3",
   "version": "3.9.7"
  }
 },
 "nbformat": 4,
 "nbformat_minor": 5
}
