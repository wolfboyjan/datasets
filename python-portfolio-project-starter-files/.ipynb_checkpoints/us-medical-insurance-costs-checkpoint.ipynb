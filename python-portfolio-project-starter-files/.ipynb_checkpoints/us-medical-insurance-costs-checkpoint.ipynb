{
 "cells": [
  {
   "cell_type": "markdown",
   "metadata": {},
   "source": [
    "# U.S. Medical Insurance Costs"
   ]
  },
  {
   "cell_type": "code",
   "execution_count": 182,
   "metadata": {},
   "outputs": [],
   "source": [
    "import csv"
   ]
  },
  {
   "cell_type": "code",
   "execution_count": 183,
   "metadata": {},
   "outputs": [],
   "source": [
    "#Open csv file and create list of dictionaries, with each being an individual\n",
    "with open(\"insurance.csv\") as data_file:\n",
    "    reader = csv.DictReader(data_file)         \n",
    "    data_list = list(reader)\n",
    "\n",
    "    #Example of dictionaries within list \n",
    "#print(data_list[0])\n",
    "\n",
    "#Example of the etire list \n",
    "# print(data_list)"
   ]
  },
  {
   "cell_type": "code",
   "execution_count": 254,
   "metadata": {},
   "outputs": [],
   "source": [
    "#calculate average of numeric fields\n",
    "def average_calc(list, col):\n",
    "    total_age = 0\n",
    "    for row in list:\n",
    "        total_age += float(row[col])\n",
    "    return round(total_age / len(list),1)\n",
    "\n",
    "#filtered average of numeric column calculator, e.g. average age by gender\n",
    "\n",
    "def selection_calc(list, col, selection, sum_col):\n",
    "    selection_sum = 0\n",
    "    selection_instances = 0\n",
    "    for row in list:\n",
    "        if row[col] == selection:\n",
    "            selection_sum += float(row[sum_col])\n",
    "            selection_instances += 1\n",
    "        else:\n",
    "            pass\n",
    "    return round((selection_sum / selection_instances),1)\n",
    "\n",
    "#percentage calculator for categorical fields\n",
    "\n",
    "def pc_calc(list, col):\n",
    "    total_num = 0\n",
    "    for row in list:\n",
    "        if row[col] == \"female\":\n",
    "            total_num += 1\n",
    "    return round(total_num / len(list),3) * 100\n",
    "\n",
    "#distinct lists for categorical fields\n",
    "\n",
    "def list_creator(list,col):\n",
    "    distinct_list = []\n",
    "    for row in list:\n",
    "        if row[col] not in distinct_list:\n",
    "                distinct_list.append(row[col])\n",
    "    return distinct_list\n",
    "\n",
    "sexes = list_creator(data_list,\"sex\")\n",
    "smoker_statuses = list_creator(data_list,\"smoker\")\n",
    "regions = list_creator(data_list,\"region\")\n",
    "\n",
    "# for i in sexes:\n",
    "#     print(i)\n",
    "    \n",
    "# for i in smoker_statuses:\n",
    "#     print(i)\n",
    "    \n",
    "# for i in regions:\n",
    "#     print(i)"
   ]
  },
  {
   "cell_type": "code",
   "execution_count": 256,
   "metadata": {},
   "outputs": [
    {
     "name": "stdout",
     "output_type": "stream",
     "text": [
      "Total individuals: 1338\n",
      "Percentage female: 49.5%\n",
      "Average age: 39.2\n",
      "Average bmi: 30.7\n",
      "Average charges: $13270.4\n",
      "females are older in this sample.\n",
      "female average age: 39.5\n"
     ]
    }
   ],
   "source": [
    "#total individuals\n",
    "total_indivs = len(data_list)\n",
    "print(\"Total individuals: \" + str(total_indivs))\n",
    "\n",
    "#percentage female\n",
    "pc_female = pc_calc(data_list, \"sex\")\n",
    "print(\"Percentage female: \" + str(pc_female) + \"%\")\n",
    "\n",
    "#Average age\n",
    "average_age = average_calc(data_list,\"age\")\n",
    "print(\"Average age: \" + str(average_age))\n",
    "\n",
    "#Average bmi\n",
    "average_bmi = average_calc(data_list,\"bmi\")\n",
    "print(\"Average bmi: \" + str(average_bmi))\n",
    "\n",
    "#Average charges\n",
    "average_charges = average_calc(data_list,\"charges\")\n",
    "print(\"Average charges: $\" + str(average_charges))\n",
    "\n",
    "#Average age Female\n",
    "average_female_age = selection_calc(data_list,\"sex\",\"female\",\"age\")\n",
    "\n",
    "#Average age Male\n",
    "average_male_age = selection_calc(data_list,\"sex\",\"male\",\"age\")\n",
    "\n",
    "#Older gender\n",
    "def older_gender_check(female, male):\n",
    "    if female > male:\n",
    "        return \"female\"\n",
    "    elif female < male:\n",
    "        return \"male\"\n",
    "    else:\n",
    "        return \"there is no difference\"\n",
    "\n",
    "older_gender = older_gender_check(average_female_age, average_male_age)\n",
    "print(older_gender + \"s are older in this sample.\")\n",
    "\n",
    "#Average age of older gender\n",
    "older_gender_age = selection_calc(data_list,\"sex\",older_gender,\"age\")\n",
    "print(older_gender + \" average age: \" + str(older_gender_age))\n",
    "\n",
    "#higher_av_charge = \n",
    "\n",
    "#higher_charge_gender = "
   ]
  },
  {
   "cell_type": "code",
   "execution_count": 260,
   "metadata": {},
   "outputs": [
    {
     "name": "stdout",
     "output_type": "stream",
     "text": [
      "There are 1338 individuals within the data. 49.5% are female. The average age is 39.2, rising to 39.5 for females.\n"
     ]
    }
   ],
   "source": [
    "#Demographics of data by fields\n",
    "\n",
    "print(\"There are {total} individuals within the data. {pc_female}% are female. The average age is {av_age}, rising to {higher_av_age} for {higher_age_gender}s.\".format(total=total_indivs,pc_female=pc_female,av_age=average_age,higher_av_age=older_gender_age,higher_age_gender=older_gender))"
   ]
  },
  {
   "cell_type": "code",
   "execution_count": null,
   "metadata": {},
   "outputs": [],
   "source": []
  }
 ],
 "metadata": {
  "kernelspec": {
   "display_name": "Python 3 (ipykernel)",
   "language": "python",
   "name": "python3"
  },
  "language_info": {
   "codemirror_mode": {
    "name": "ipython",
    "version": 3
   },
   "file_extension": ".py",
   "mimetype": "text/x-python",
   "name": "python",
   "nbconvert_exporter": "python",
   "pygments_lexer": "ipython3",
   "version": "3.9.7"
  }
 },
 "nbformat": 4,
 "nbformat_minor": 4
}
